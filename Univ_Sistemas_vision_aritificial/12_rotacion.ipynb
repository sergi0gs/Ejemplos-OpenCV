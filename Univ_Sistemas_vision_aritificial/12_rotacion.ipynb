{
 "cells": [
  {
   "cell_type": "code",
   "execution_count": 1,
   "metadata": {},
   "outputs": [],
   "source": [
    "import cv2\n",
    "import numpy as np\n",
    "\n",
    "img = cv2.imread('perros_2.jpg')\n",
    "witdh = img.shape[1]\n",
    "high = img.shape[0]\n",
    "\n",
    "M = cv2.getRotationMatrix2D((witdh/2, high/2), 90, 0.5)\n",
    "img_out = cv2.warpAffine(img, M, (witdh, high))\n",
    "\n",
    "cv2.imshow('img', img)\n",
    "cv2.imshow('img_out', img_out)\n",
    "cv2.waitKey(0)\n",
    "cv2.destroyAllWindows()"
   ]
  }
 ],
 "metadata": {
  "interpreter": {
   "hash": "6db526c0571fd0cda1c7ea744ff1c606702070e2e9b531651846eb4acc9d1731"
  },
  "kernelspec": {
   "display_name": "Python 3.6.9 64-bit ('lucky': conda)",
   "name": "python3"
  },
  "language_info": {
   "codemirror_mode": {
    "name": "ipython",
    "version": 3
   },
   "file_extension": ".py",
   "mimetype": "text/x-python",
   "name": "python",
   "nbconvert_exporter": "python",
   "pygments_lexer": "ipython3",
   "version": "3.6.9"
  },
  "orig_nbformat": 4
 },
 "nbformat": 4,
 "nbformat_minor": 2
}
