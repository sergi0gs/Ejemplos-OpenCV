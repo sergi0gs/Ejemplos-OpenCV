{
 "cells": [
  {
   "cell_type": "code",
   "execution_count": 1,
   "metadata": {},
   "outputs": [],
   "source": [
    "import cv2 \n",
    "import numpy as np\n",
    "\n",
    "img = cv2.imread('perros_4.jpg')\n",
    "rows, cols = img.shape[:2]\n",
    "M = cv2.getRotationMatrix2D((cols/2, rows/2), 37, 1)\n",
    "\n",
    "img_out = cv2.warpAffine(img, M, (cols, rows))\n",
    "cv2.imshow('img', img)\n",
    "cv2.imshow('img_out', img_out)\n",
    "cv2.waitKey(0)\n",
    "cv2.destroyAllWindows()"
   ]
  }
 ],
 "metadata": {
  "interpreter": {
   "hash": "6db526c0571fd0cda1c7ea744ff1c606702070e2e9b531651846eb4acc9d1731"
  },
  "kernelspec": {
   "display_name": "Python 3.6.9 64-bit ('lucky': conda)",
   "name": "python3"
  },
  "language_info": {
   "codemirror_mode": {
    "name": "ipython",
    "version": 3
   },
   "file_extension": ".py",
   "mimetype": "text/x-python",
   "name": "python",
   "nbconvert_exporter": "python",
   "pygments_lexer": "ipython3",
   "version": "3.6.9"
  },
  "orig_nbformat": 4
 },
 "nbformat": 4,
 "nbformat_minor": 2
}
