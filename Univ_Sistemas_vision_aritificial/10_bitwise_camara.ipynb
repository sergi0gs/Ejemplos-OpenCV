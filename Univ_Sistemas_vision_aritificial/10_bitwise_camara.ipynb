{
 "cells": [
  {
   "cell_type": "code",
   "execution_count": 1,
   "metadata": {},
   "outputs": [],
   "source": [
    "import numpy as np\n",
    "import cv2"
   ]
  },
  {
   "cell_type": "code",
   "execution_count": 3,
   "metadata": {},
   "outputs": [],
   "source": [
    "mask = np.zeros((360,810,3), np.uint8)\n",
    "mask = cv2.circle(mask, (530,210), 145, (255,255,255),-1)\n",
    "cv2.imshow('Mascara',mask)\n",
    "cv2.waitKey(0)\n",
    "cv2.destroyAllWindows()"
   ]
  },
  {
   "cell_type": "code",
   "execution_count": 5,
   "metadata": {},
   "outputs": [
    {
     "data": {
      "text/plain": [
       "(480, 640, 3)"
      ]
     },
     "execution_count": 5,
     "metadata": {},
     "output_type": "execute_result"
    }
   ],
   "source": [
    "frame.shape"
   ]
  },
  {
   "cell_type": "code",
   "execution_count": 11,
   "metadata": {},
   "outputs": [],
   "source": [
    "cap = cv2.VideoCapture(1)\n",
    "mask = np.zeros((480,640,3), np.uint8)\n",
    "mask = cv2.circle(mask, (350,300), 145, (255,255,255),-1)\n",
    "while True:\n",
    "    ret,frame = cap.read()\n",
    "    bitw = cv2.bitwise_and(frame,mask)\n",
    "    cv2.imshow('Video_1',bitw)\n",
    "\n",
    "    if cv2.waitKey(1)& 0xFF == ord('q'):\n",
    "        break\n",
    "\n",
    "cap.release()\n",
    "cv2.destroyAllWindows()"
   ]
  }
 ],
 "metadata": {
  "interpreter": {
   "hash": "6db526c0571fd0cda1c7ea744ff1c606702070e2e9b531651846eb4acc9d1731"
  },
  "kernelspec": {
   "display_name": "Python 3.6.9 64-bit ('lucky': conda)",
   "name": "python3"
  },
  "language_info": {
   "codemirror_mode": {
    "name": "ipython",
    "version": 3
   },
   "file_extension": ".py",
   "mimetype": "text/x-python",
   "name": "python",
   "nbconvert_exporter": "python",
   "pygments_lexer": "ipython3",
   "version": "3.6.9"
  },
  "orig_nbformat": 4
 },
 "nbformat": 4,
 "nbformat_minor": 2
}
