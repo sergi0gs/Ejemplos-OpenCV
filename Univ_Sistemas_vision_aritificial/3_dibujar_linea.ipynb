{
 "cells": [
  {
   "cell_type": "code",
   "execution_count": 6,
   "metadata": {},
   "outputs": [],
   "source": [
    "import numpy as np\n",
    "import cv2"
   ]
  },
  {
   "cell_type": "code",
   "execution_count": 7,
   "metadata": {},
   "outputs": [],
   "source": [
    "img = np.zeros((512,512,3),np.uint8)\n",
    "img = cv2.line(img,(0,0),(511,511),(255,0,0),5)\n",
    "cv2.imshow('pantalla',img)\n",
    "\n",
    "cv2.waitKey(0)\n",
    "cv2.destroyAllWindows()"
   ]
  }
 ],
 "metadata": {
  "interpreter": {
   "hash": "401e247372658c4be11dc40932b1fd3b925118f29eb8b172a8b7e6b147dd9e2c"
  },
  "kernelspec": {
   "display_name": "Python 3.6.9 64-bit ('universidad': conda)",
   "name": "python3"
  },
  "language_info": {
   "codemirror_mode": {
    "name": "ipython",
    "version": 3
   },
   "file_extension": ".py",
   "mimetype": "text/x-python",
   "name": "python",
   "nbconvert_exporter": "python",
   "pygments_lexer": "ipython3",
   "version": "3.6.9"
  },
  "orig_nbformat": 4
 },
 "nbformat": 4,
 "nbformat_minor": 2
}
