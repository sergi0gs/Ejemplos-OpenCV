{
 "cells": [
  {
   "cell_type": "markdown",
   "source": [
    "Open CV es mas rápido que PIL"
   ],
   "metadata": {}
  },
  {
   "cell_type": "markdown",
   "source": [
    "# Importar librerias"
   ],
   "metadata": {}
  },
  {
   "cell_type": "code",
   "execution_count": 1,
   "source": [
    "import cv2 \n",
    "import numpy as np\n",
    "import matplotlib.pyplot as plt"
   ],
   "outputs": [],
   "metadata": {}
  },
  {
   "cell_type": "markdown",
   "source": [
    "# Leer imagen"
   ],
   "metadata": {}
  },
  {
   "cell_type": "markdown",
   "source": [
    "**cv2.imread(*path*)**:\n",
    "\n",
    "flags:\n",
    "- cv2.IMREAD_COLOR: Carga el archivo en forfato BGR (Blue-Green_Red) (default)\n",
    "- cv2.IMREAD_UNCHANGED: Carga la imgen tal cual(incluyendo canal alfa o canal de transparencia si está presente)\n",
    "- cv2.IMREAD_GRAYSCALE: Escala de grises"
   ],
   "metadata": {}
  },
  {
   "cell_type": "code",
   "execution_count": 6,
   "source": [
    "img = cv2.imread('./Images/starry_night.jpeg',flags=cv2.IMREAD_GRAYSCALE)\n",
    "img\n"
   ],
   "outputs": [
    {
     "output_type": "execute_result",
     "data": {
      "text/plain": [
       "array([[ 47,  30,  36, ..., 160, 172, 172],\n",
       "       [ 51,  30,  27, ..., 195, 139, 176],\n",
       "       [ 28,   9,  19, ..., 127, 204, 173],\n",
       "       ...,\n",
       "       [ 59,  48,  33, ...,  51,  78, 141],\n",
       "       [ 77,  28,  10, ...,  93, 100,  97],\n",
       "       [127, 136, 146, ...,  56,  95, 136]], dtype=uint8)"
      ]
     },
     "metadata": {},
     "execution_count": 6
    }
   ],
   "metadata": {}
  },
  {
   "cell_type": "code",
   "execution_count": 7,
   "source": [
    "img.shape"
   ],
   "outputs": [
    {
     "output_type": "execute_result",
     "data": {
      "text/plain": [
       "(200, 252)"
      ]
     },
     "metadata": {},
     "execution_count": 7
    }
   ],
   "metadata": {}
  },
  {
   "cell_type": "markdown",
   "source": [
    "**cv2.imshow(*Nombre-de-la-ventana*,*imagen*)**: Función para mostral la imagen.\n",
    "\n",
    "**cv2.waitKey(0)**: La ventana se queda abierta indefinidamente.\n",
    "\n",
    "**cv2.destroyAllWindows()**: La ventan se cierra con cualquier tecla\n"
   ],
   "metadata": {}
  },
  {
   "cell_type": "code",
   "execution_count": 8,
   "source": [
    "cv2.imshow('Imagen',img)\n",
    "cv2.waitKey(0)\n",
    "cv2.destroyAllWindows()"
   ],
   "outputs": [],
   "metadata": {}
  }
 ],
 "metadata": {
  "orig_nbformat": 4,
  "language_info": {
   "name": "python",
   "version": "3.6.9",
   "mimetype": "text/x-python",
   "codemirror_mode": {
    "name": "ipython",
    "version": 3
   },
   "pygments_lexer": "ipython3",
   "nbconvert_exporter": "python",
   "file_extension": ".py"
  },
  "kernelspec": {
   "name": "python3",
   "display_name": "Python 3.6.9 64-bit ('lucky': conda)"
  },
  "interpreter": {
   "hash": "279e1732292483bc4d1d20c2c6cf74db41ac4ef2a48e654bfbc771431e2924d2"
  }
 },
 "nbformat": 4,
 "nbformat_minor": 2
}